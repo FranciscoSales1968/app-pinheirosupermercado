{
  "cells": [
    {
      "cell_type": "markdown",
      "metadata": {
        "id": "view-in-github",
        "colab_type": "text"
      },
      "source": [
        "<a href=\"https://colab.research.google.com/github/FranciscoSales1968/app-pinheirosupermercado/blob/main/app_pinheirosupermercado.ipynb\" target=\"_parent\"><img src=\"https://colab.research.google.com/assets/colab-badge.svg\" alt=\"Open In Colab\"/></a>"
      ]
    },
    {
      "cell_type": "markdown",
      "metadata": {
        "id": "lOdgef9zOwYV"
      },
      "source": [
        "# Association Rule Mining with Apriori Algorithm"
      ]
    },
    {
      "cell_type": "code",
      "source": [
        "\"\"\"\n",
        "Aplicativo...................: app-apriori-python-market-supermercadopinheiro.ipynb\n",
        "Analista de dados............: Esp Francisco José Sales Sampaio\n",
        "Consultoria .................: Esp Francisco José Sales Sampaio\n",
        "--------------------------------------------------------------------------------------------------------------------\n",
        "Criado em....................: 7 de fevereiro de 2023\n",
        "Alterado em..................: 8 de fevereiro de 2023\n",
        "Resumo.......................: Algoritmo adaptado para uso pelo market.\n",
        "Cliente......................: Supermercados.\n",
        "Versão.......................: Versão.1.0. Rev. 7.Rev.2023. Release. 001\n",
        "\"\"\""
      ],
      "metadata": {
        "id": "BpaDD-qkM9Ok"
      },
      "execution_count": null,
      "outputs": []
    },
    {
      "cell_type": "markdown",
      "source": [],
      "metadata": {
        "id": "0Xa1HVLRM3y6"
      }
    },
    {
      "cell_type": "code",
      "execution_count": null,
      "metadata": {
        "id": "SJ2ME5rrhD7p"
      },
      "outputs": [],
      "source": [
        "\"\"\"\n",
        "Instala pacotes do Apriori\n",
        "This instals the Apyori package for using the Association Mining Apriori algorithm\n",
        "\n",
        "\"\"\"\n",
        "\n",
        "!pip install apyori  \n",
        "\n",
        "import numpy as np\n",
        "import matplotlib.pyplot as plt\n",
        "import pandas as pd\n",
        "from apyori import apriori"
      ]
    },
    {
      "cell_type": "code",
      "source": [
        "# Montando google driver.\n",
        "from google.colab import drive\n",
        "drive.mount('/content/drive')"
      ],
      "metadata": {
        "id": "IoeWBmF_oDtU",
        "colab": {
          "base_uri": "https://localhost:8080/"
        },
        "outputId": "4fc5b203-23a0-4784-b880-3b16375fcce9"
      },
      "execution_count": null,
      "outputs": [
        {
          "output_type": "stream",
          "name": "stdout",
          "text": [
            "Mounted at /content/drive\n"
          ]
        }
      ]
    },
    {
      "cell_type": "markdown",
      "metadata": {
        "id": "8cmltMCyhVF3"
      },
      "source": [
        "Importando Dataset do bilhete telefônico da operadora de telefonia.\n",
        "Download do arquivo nomearquivo.xlxs"
      ]
    },
    {
      "cell_type": "code",
      "execution_count": null,
      "metadata": {
        "id": "Xw7EEhSkhh_e",
        "colab": {
          "base_uri": "https://localhost:8080/",
          "height": 55
        },
        "outputId": "8aa3af35-8159-4df8-9b2b-3bf1281cafef"
      },
      "outputs": [
        {
          "output_type": "display_data",
          "data": {
            "text/plain": [
              "<IPython.core.display.HTML object>"
            ],
            "text/html": [
              "\n",
              "     <input type=\"file\" id=\"files-d2b5c6ba-d968-4f7c-b223-33829298df34\" name=\"files[]\" multiple disabled\n",
              "        style=\"border:none\" />\n",
              "     <output id=\"result-d2b5c6ba-d968-4f7c-b223-33829298df34\">\n",
              "      Upload widget is only available when the cell has been executed in the\n",
              "      current browser session. Please rerun this cell to enable.\n",
              "      </output>\n",
              "      <script>// Copyright 2017 Google LLC\n",
              "//\n",
              "// Licensed under the Apache License, Version 2.0 (the \"License\");\n",
              "// you may not use this file except in compliance with the License.\n",
              "// You may obtain a copy of the License at\n",
              "//\n",
              "//      http://www.apache.org/licenses/LICENSE-2.0\n",
              "//\n",
              "// Unless required by applicable law or agreed to in writing, software\n",
              "// distributed under the License is distributed on an \"AS IS\" BASIS,\n",
              "// WITHOUT WARRANTIES OR CONDITIONS OF ANY KIND, either express or implied.\n",
              "// See the License for the specific language governing permissions and\n",
              "// limitations under the License.\n",
              "\n",
              "/**\n",
              " * @fileoverview Helpers for google.colab Python module.\n",
              " */\n",
              "(function(scope) {\n",
              "function span(text, styleAttributes = {}) {\n",
              "  const element = document.createElement('span');\n",
              "  element.textContent = text;\n",
              "  for (const key of Object.keys(styleAttributes)) {\n",
              "    element.style[key] = styleAttributes[key];\n",
              "  }\n",
              "  return element;\n",
              "}\n",
              "\n",
              "// Max number of bytes which will be uploaded at a time.\n",
              "const MAX_PAYLOAD_SIZE = 100 * 1024;\n",
              "\n",
              "function _uploadFiles(inputId, outputId) {\n",
              "  const steps = uploadFilesStep(inputId, outputId);\n",
              "  const outputElement = document.getElementById(outputId);\n",
              "  // Cache steps on the outputElement to make it available for the next call\n",
              "  // to uploadFilesContinue from Python.\n",
              "  outputElement.steps = steps;\n",
              "\n",
              "  return _uploadFilesContinue(outputId);\n",
              "}\n",
              "\n",
              "// This is roughly an async generator (not supported in the browser yet),\n",
              "// where there are multiple asynchronous steps and the Python side is going\n",
              "// to poll for completion of each step.\n",
              "// This uses a Promise to block the python side on completion of each step,\n",
              "// then passes the result of the previous step as the input to the next step.\n",
              "function _uploadFilesContinue(outputId) {\n",
              "  const outputElement = document.getElementById(outputId);\n",
              "  const steps = outputElement.steps;\n",
              "\n",
              "  const next = steps.next(outputElement.lastPromiseValue);\n",
              "  return Promise.resolve(next.value.promise).then((value) => {\n",
              "    // Cache the last promise value to make it available to the next\n",
              "    // step of the generator.\n",
              "    outputElement.lastPromiseValue = value;\n",
              "    return next.value.response;\n",
              "  });\n",
              "}\n",
              "\n",
              "/**\n",
              " * Generator function which is called between each async step of the upload\n",
              " * process.\n",
              " * @param {string} inputId Element ID of the input file picker element.\n",
              " * @param {string} outputId Element ID of the output display.\n",
              " * @return {!Iterable<!Object>} Iterable of next steps.\n",
              " */\n",
              "function* uploadFilesStep(inputId, outputId) {\n",
              "  const inputElement = document.getElementById(inputId);\n",
              "  inputElement.disabled = false;\n",
              "\n",
              "  const outputElement = document.getElementById(outputId);\n",
              "  outputElement.innerHTML = '';\n",
              "\n",
              "  const pickedPromise = new Promise((resolve) => {\n",
              "    inputElement.addEventListener('change', (e) => {\n",
              "      resolve(e.target.files);\n",
              "    });\n",
              "  });\n",
              "\n",
              "  const cancel = document.createElement('button');\n",
              "  inputElement.parentElement.appendChild(cancel);\n",
              "  cancel.textContent = 'Cancel upload';\n",
              "  const cancelPromise = new Promise((resolve) => {\n",
              "    cancel.onclick = () => {\n",
              "      resolve(null);\n",
              "    };\n",
              "  });\n",
              "\n",
              "  // Wait for the user to pick the files.\n",
              "  const files = yield {\n",
              "    promise: Promise.race([pickedPromise, cancelPromise]),\n",
              "    response: {\n",
              "      action: 'starting',\n",
              "    }\n",
              "  };\n",
              "\n",
              "  cancel.remove();\n",
              "\n",
              "  // Disable the input element since further picks are not allowed.\n",
              "  inputElement.disabled = true;\n",
              "\n",
              "  if (!files) {\n",
              "    return {\n",
              "      response: {\n",
              "        action: 'complete',\n",
              "      }\n",
              "    };\n",
              "  }\n",
              "\n",
              "  for (const file of files) {\n",
              "    const li = document.createElement('li');\n",
              "    li.append(span(file.name, {fontWeight: 'bold'}));\n",
              "    li.append(span(\n",
              "        `(${file.type || 'n/a'}) - ${file.size} bytes, ` +\n",
              "        `last modified: ${\n",
              "            file.lastModifiedDate ? file.lastModifiedDate.toLocaleDateString() :\n",
              "                                    'n/a'} - `));\n",
              "    const percent = span('0% done');\n",
              "    li.appendChild(percent);\n",
              "\n",
              "    outputElement.appendChild(li);\n",
              "\n",
              "    const fileDataPromise = new Promise((resolve) => {\n",
              "      const reader = new FileReader();\n",
              "      reader.onload = (e) => {\n",
              "        resolve(e.target.result);\n",
              "      };\n",
              "      reader.readAsArrayBuffer(file);\n",
              "    });\n",
              "    // Wait for the data to be ready.\n",
              "    let fileData = yield {\n",
              "      promise: fileDataPromise,\n",
              "      response: {\n",
              "        action: 'continue',\n",
              "      }\n",
              "    };\n",
              "\n",
              "    // Use a chunked sending to avoid message size limits. See b/62115660.\n",
              "    let position = 0;\n",
              "    do {\n",
              "      const length = Math.min(fileData.byteLength - position, MAX_PAYLOAD_SIZE);\n",
              "      const chunk = new Uint8Array(fileData, position, length);\n",
              "      position += length;\n",
              "\n",
              "      const base64 = btoa(String.fromCharCode.apply(null, chunk));\n",
              "      yield {\n",
              "        response: {\n",
              "          action: 'append',\n",
              "          file: file.name,\n",
              "          data: base64,\n",
              "        },\n",
              "      };\n",
              "\n",
              "      let percentDone = fileData.byteLength === 0 ?\n",
              "          100 :\n",
              "          Math.round((position / fileData.byteLength) * 100);\n",
              "      percent.textContent = `${percentDone}% done`;\n",
              "\n",
              "    } while (position < fileData.byteLength);\n",
              "  }\n",
              "\n",
              "  // All done.\n",
              "  yield {\n",
              "    response: {\n",
              "      action: 'complete',\n",
              "    }\n",
              "  };\n",
              "}\n",
              "\n",
              "scope.google = scope.google || {};\n",
              "scope.google.colab = scope.google.colab || {};\n",
              "scope.google.colab._files = {\n",
              "  _uploadFiles,\n",
              "  _uploadFilesContinue,\n",
              "};\n",
              "})(self);\n",
              "</script> "
            ]
          },
          "metadata": {}
        },
        {
          "output_type": "execute_result",
          "data": {
            "text/plain": [
              "{}"
            ]
          },
          "metadata": {},
          "execution_count": 21
        }
      ],
      "source": [
        "# Importando arquivos do google driver.\n",
        "from google.colab import files\n",
        "files.upload()"
      ]
    },
    {
      "cell_type": "code",
      "source": [
        "\"\"\"\n",
        "Notas / observações: \n",
        "\n",
        "1. Este bloco faz leitura do arquivo de dados no formato xlxs do google driver e guarda na variável { store_data }\n",
        "2. O parâmetro utilizado { skiprows }, exclui estas linhas\n",
        "3. O parâmetro utilizado { usecls }, especificas as colunas que serão utilizadas\n",
        "\n",
        "\n",
        "Exemplo / modelo: \n",
        "\n",
        "store_data = pd.read_excel('\n",
        "/content/drive/MyDrive/dev-apriori/bilhete_original_006080013_1_8586160492_1.xlsx', \n",
        "skiprows=[0,1,2,3,4], \n",
        "usecols=[0,1,2,3,7,8,9,10])\n",
        "\n",
        "By Francisco José Sales Sampaio, em: 07/02/2023\n",
        "\n",
        "\n",
        "Atenção: O arquivo { venda-cliente.xlsx } deverá conter as gravações dos pontos de acupunturas utilizados pelos profissionais.\n",
        "Este arquivo será gerado pelo pessoal de tecnologia da informação do cliente, no formato xlxs.\n",
        "\n",
        "\"\"\"\n",
        "# Cria variável store_data\n",
        "store_data = pd.read_excel('/content/bilhete_pre_processado_versao_26nov2022_rev_01.xlsx', skiprows=[0], usecols=[1,5,7])\n",
        "# Nota: Exclui linha 0 e utiliza colunas 1,5,7\n",
        "\n"
      ],
      "metadata": {
        "id": "J4q8uMX5mPjZ"
      },
      "execution_count": null,
      "outputs": []
    },
    {
      "cell_type": "code",
      "source": [
        "# Contagem dos itens do banco de dados / dataset\n",
        "len(store_data)"
      ],
      "metadata": {
        "colab": {
          "base_uri": "https://localhost:8080/"
        },
        "id": "rz3aUqfisL34",
        "outputId": "86104bc4-7bef-437c-fea3-683700b15623"
      },
      "execution_count": null,
      "outputs": [
        {
          "output_type": "execute_result",
          "data": {
            "text/plain": [
              "847"
            ]
          },
          "metadata": {},
          "execution_count": 26
        }
      ]
    },
    {
      "cell_type": "code",
      "source": [
        "# Remoção de dados indesejados no dataset.\n",
        "for index in store_data.columns:\n",
        "  store_data[index] = store_data[index].str.strip()"
      ],
      "metadata": {
        "id": "LAaNppA6saOZ"
      },
      "execution_count": null,
      "outputs": []
    },
    {
      "cell_type": "code",
      "source": [
        "# Telefones distintos.\n",
        "itens = store_data.melt()['value'].dropna().sort_values()"
      ],
      "metadata": {
        "id": "3_9fv1SPs-IT"
      },
      "execution_count": null,
      "outputs": []
    },
    {
      "cell_type": "code",
      "source": [
        "# Contagem de itens distintos\n",
        "len(itens.unique())\n"
      ],
      "metadata": {
        "colab": {
          "base_uri": "https://localhost:8080/"
        },
        "id": "YFMWl1E0Mi7w",
        "outputId": "89e5cd23-7f36-4051-bb78-6a07b5c0cd95"
      },
      "execution_count": null,
      "outputs": [
        {
          "output_type": "execute_result",
          "data": {
            "text/plain": [
              "1"
            ]
          },
          "metadata": {},
          "execution_count": 31
        }
      ]
    },
    {
      "cell_type": "code",
      "source": [
        "# Imprime os itens distintos.\n",
        "print (f'Existem {itens.unique()} telefones distintos :n', itens.unique())"
      ],
      "metadata": {
        "colab": {
          "base_uri": "https://localhost:8080/"
        },
        "id": "ST7xIpaAuK8k",
        "outputId": "c1dea732-9d2f-4eba-ca49-0ce05bb26cd5"
      },
      "execution_count": null,
      "outputs": [
        {
          "output_type": "stream",
          "name": "stdout",
          "text": [
            "Existem ['0*100'] telefones distintos :n ['0*100']\n"
          ]
        }
      ]
    },
    {
      "cell_type": "markdown",
      "metadata": {
        "id": "t7IcIb_ghpNZ"
      },
      "source": [
        "Let's call the head() function to see how the dataset looks:"
      ]
    },
    {
      "cell_type": "code",
      "execution_count": null,
      "metadata": {
        "colab": {
          "base_uri": "https://localhost:8080/",
          "height": 424
        },
        "id": "Un923mavhsL5",
        "outputId": "e2343d58-fde7-431d-f619-ecde4541162c"
      },
      "outputs": [
        {
          "output_type": "execute_result",
          "data": {
            "text/plain": [
              "     8586160492      8587437187       359035039489450\n",
              "0         8586160492      8587437187     3.590350e+14\n",
              "1         8586160492             190     3.590350e+14\n",
              "2         8586160492             190     3.590350e+14\n",
              "3         8586160492             190     3.590350e+14\n",
              "4         8586160492      8534571012     3.590350e+14\n",
              "..               ...             ...              ...\n",
              "195       8586160492      8585374835     3.560101e+14\n",
              "196       8586160492      8585374835     3.560101e+14\n",
              "197       8586160492      8532521456     3.560101e+14\n",
              "198       8586160492      8585374835     3.560101e+14\n",
              "199       8586160492      8588927501     3.560101e+14\n",
              "\n",
              "[200 rows x 3 columns]"
            ],
            "text/html": [
              "\n",
              "  <div id=\"df-3ad2fd69-f0c0-43f5-ab33-b68e7e6b21d9\">\n",
              "    <div class=\"colab-df-container\">\n",
              "      <div>\n",
              "<style scoped>\n",
              "    .dataframe tbody tr th:only-of-type {\n",
              "        vertical-align: middle;\n",
              "    }\n",
              "\n",
              "    .dataframe tbody tr th {\n",
              "        vertical-align: top;\n",
              "    }\n",
              "\n",
              "    .dataframe thead th {\n",
              "        text-align: right;\n",
              "    }\n",
              "</style>\n",
              "<table border=\"1\" class=\"dataframe\">\n",
              "  <thead>\n",
              "    <tr style=\"text-align: right;\">\n",
              "      <th></th>\n",
              "      <th>8586160492</th>\n",
              "      <th>8587437187</th>\n",
              "      <th>359035039489450</th>\n",
              "    </tr>\n",
              "  </thead>\n",
              "  <tbody>\n",
              "    <tr>\n",
              "      <th>0</th>\n",
              "      <td>8586160492</td>\n",
              "      <td>8587437187</td>\n",
              "      <td>3.590350e+14</td>\n",
              "    </tr>\n",
              "    <tr>\n",
              "      <th>1</th>\n",
              "      <td>8586160492</td>\n",
              "      <td>190</td>\n",
              "      <td>3.590350e+14</td>\n",
              "    </tr>\n",
              "    <tr>\n",
              "      <th>2</th>\n",
              "      <td>8586160492</td>\n",
              "      <td>190</td>\n",
              "      <td>3.590350e+14</td>\n",
              "    </tr>\n",
              "    <tr>\n",
              "      <th>3</th>\n",
              "      <td>8586160492</td>\n",
              "      <td>190</td>\n",
              "      <td>3.590350e+14</td>\n",
              "    </tr>\n",
              "    <tr>\n",
              "      <th>4</th>\n",
              "      <td>8586160492</td>\n",
              "      <td>8534571012</td>\n",
              "      <td>3.590350e+14</td>\n",
              "    </tr>\n",
              "    <tr>\n",
              "      <th>...</th>\n",
              "      <td>...</td>\n",
              "      <td>...</td>\n",
              "      <td>...</td>\n",
              "    </tr>\n",
              "    <tr>\n",
              "      <th>195</th>\n",
              "      <td>8586160492</td>\n",
              "      <td>8585374835</td>\n",
              "      <td>3.560101e+14</td>\n",
              "    </tr>\n",
              "    <tr>\n",
              "      <th>196</th>\n",
              "      <td>8586160492</td>\n",
              "      <td>8585374835</td>\n",
              "      <td>3.560101e+14</td>\n",
              "    </tr>\n",
              "    <tr>\n",
              "      <th>197</th>\n",
              "      <td>8586160492</td>\n",
              "      <td>8532521456</td>\n",
              "      <td>3.560101e+14</td>\n",
              "    </tr>\n",
              "    <tr>\n",
              "      <th>198</th>\n",
              "      <td>8586160492</td>\n",
              "      <td>8585374835</td>\n",
              "      <td>3.560101e+14</td>\n",
              "    </tr>\n",
              "    <tr>\n",
              "      <th>199</th>\n",
              "      <td>8586160492</td>\n",
              "      <td>8588927501</td>\n",
              "      <td>3.560101e+14</td>\n",
              "    </tr>\n",
              "  </tbody>\n",
              "</table>\n",
              "<p>200 rows × 3 columns</p>\n",
              "</div>\n",
              "      <button class=\"colab-df-convert\" onclick=\"convertToInteractive('df-3ad2fd69-f0c0-43f5-ab33-b68e7e6b21d9')\"\n",
              "              title=\"Convert this dataframe to an interactive table.\"\n",
              "              style=\"display:none;\">\n",
              "        \n",
              "  <svg xmlns=\"http://www.w3.org/2000/svg\" height=\"24px\"viewBox=\"0 0 24 24\"\n",
              "       width=\"24px\">\n",
              "    <path d=\"M0 0h24v24H0V0z\" fill=\"none\"/>\n",
              "    <path d=\"M18.56 5.44l.94 2.06.94-2.06 2.06-.94-2.06-.94-.94-2.06-.94 2.06-2.06.94zm-11 1L8.5 8.5l.94-2.06 2.06-.94-2.06-.94L8.5 2.5l-.94 2.06-2.06.94zm10 10l.94 2.06.94-2.06 2.06-.94-2.06-.94-.94-2.06-.94 2.06-2.06.94z\"/><path d=\"M17.41 7.96l-1.37-1.37c-.4-.4-.92-.59-1.43-.59-.52 0-1.04.2-1.43.59L10.3 9.45l-7.72 7.72c-.78.78-.78 2.05 0 2.83L4 21.41c.39.39.9.59 1.41.59.51 0 1.02-.2 1.41-.59l7.78-7.78 2.81-2.81c.8-.78.8-2.07 0-2.86zM5.41 20L4 18.59l7.72-7.72 1.47 1.35L5.41 20z\"/>\n",
              "  </svg>\n",
              "      </button>\n",
              "      \n",
              "  <style>\n",
              "    .colab-df-container {\n",
              "      display:flex;\n",
              "      flex-wrap:wrap;\n",
              "      gap: 12px;\n",
              "    }\n",
              "\n",
              "    .colab-df-convert {\n",
              "      background-color: #E8F0FE;\n",
              "      border: none;\n",
              "      border-radius: 50%;\n",
              "      cursor: pointer;\n",
              "      display: none;\n",
              "      fill: #1967D2;\n",
              "      height: 32px;\n",
              "      padding: 0 0 0 0;\n",
              "      width: 32px;\n",
              "    }\n",
              "\n",
              "    .colab-df-convert:hover {\n",
              "      background-color: #E2EBFA;\n",
              "      box-shadow: 0px 1px 2px rgba(60, 64, 67, 0.3), 0px 1px 3px 1px rgba(60, 64, 67, 0.15);\n",
              "      fill: #174EA6;\n",
              "    }\n",
              "\n",
              "    [theme=dark] .colab-df-convert {\n",
              "      background-color: #3B4455;\n",
              "      fill: #D2E3FC;\n",
              "    }\n",
              "\n",
              "    [theme=dark] .colab-df-convert:hover {\n",
              "      background-color: #434B5C;\n",
              "      box-shadow: 0px 1px 3px 1px rgba(0, 0, 0, 0.15);\n",
              "      filter: drop-shadow(0px 1px 2px rgba(0, 0, 0, 0.3));\n",
              "      fill: #FFFFFF;\n",
              "    }\n",
              "  </style>\n",
              "\n",
              "      <script>\n",
              "        const buttonEl =\n",
              "          document.querySelector('#df-3ad2fd69-f0c0-43f5-ab33-b68e7e6b21d9 button.colab-df-convert');\n",
              "        buttonEl.style.display =\n",
              "          google.colab.kernel.accessAllowed ? 'block' : 'none';\n",
              "\n",
              "        async function convertToInteractive(key) {\n",
              "          const element = document.querySelector('#df-3ad2fd69-f0c0-43f5-ab33-b68e7e6b21d9');\n",
              "          const dataTable =\n",
              "            await google.colab.kernel.invokeFunction('convertToInteractive',\n",
              "                                                     [key], {});\n",
              "          if (!dataTable) return;\n",
              "\n",
              "          const docLinkHtml = 'Like what you see? Visit the ' +\n",
              "            '<a target=\"_blank\" href=https://colab.research.google.com/notebooks/data_table.ipynb>data table notebook</a>'\n",
              "            + ' to learn more about interactive tables.';\n",
              "          element.innerHTML = '';\n",
              "          dataTable['output_type'] = 'display_data';\n",
              "          await google.colab.output.renderOutput(dataTable, element);\n",
              "          const docLink = document.createElement('div');\n",
              "          docLink.innerHTML = docLinkHtml;\n",
              "          element.appendChild(docLink);\n",
              "        }\n",
              "      </script>\n",
              "    </div>\n",
              "  </div>\n",
              "  "
            ]
          },
          "metadata": {},
          "execution_count": 44
        }
      ],
      "source": [
        "store_data.head(200)"
      ]
    },
    {
      "cell_type": "markdown",
      "metadata": {
        "id": "ANMDy-8uh2UF"
      },
      "source": [
        "If you carefully look at the data, we can see that the header is actually the first transaction. Each row corresponds to a transaction and each column corresponds to an item purchased in that specific transaction. The NaN tells us that the item represented by the column was not purchased in that specific transaction.\n",
        "\n",
        "In this dataset there is no header row. But by default, pd.read_csv function treats first row as header. To get rid of this problem, add header=None option to pd.read_csv function, as shown below:"
      ]
    },
    {
      "cell_type": "code",
      "execution_count": null,
      "metadata": {
        "id": "5YKuVMb8h6S7"
      },
      "outputs": [],
      "source": [
        "store_data = pd.read_csv('store_data.csv', header=None)\n",
        "store_data.head()"
      ]
    },
    {
      "cell_type": "markdown",
      "metadata": {
        "id": "js_n2gR-iDKh"
      },
      "source": [
        "## Data Proprocessing\n",
        "\n",
        "The Apriori library we are going to use requires our dataset to be in the form of a list of lists, where the whole dataset is a big list and each transaction in the dataset is an inner list within the outer big list. Currently we have data in the form of a pandas dataframe. To convert our pandas dataframe into a list of lists, execute the following script:"
      ]
    },
    {
      "cell_type": "code",
      "execution_count": null,
      "metadata": {
        "id": "RwJwtADyiHkM"
      },
      "outputs": [],
      "source": [
        "# 7501 número de registros do dataset original\n",
        "# 20 número de colunas do dataset original\n",
        "records = []\n",
        "for i in range(0, 847):\n",
        "    records.append([str(store_data.values[i,j]) for j in range(0, 3)])"
      ]
    },
    {
      "cell_type": "markdown",
      "metadata": {
        "id": "GBr6pd8JiNtV"
      },
      "source": [
        "## Applying Apriori\n",
        "\n",
        "The next step is to apply the Apriori algorithm on the dataset. To do so, we can use the apriori class that we imported from the apyori library.\n",
        "\n",
        "The apriori class requires some parameter values to work. The first parameter is the list of list that you want to extract rules from. The second parameter is the min_support parameter. This parameter is used to select the items with support values greater than the value specified by the parameter. Next, the min_confidence parameter filters those rules that have confidence greater than the confidence threshold specified by the parameter. Similarly, the min_lift parameter specifies the minimum lift value for the short listed rules. Finally, the min_length parameter specifies the minimum number of items that you want in your rules.\n",
        "\n",
        "Let's suppose that we want rules for only those items that are purchased at least 5 times a day, or 7 x 5 = 35 times in one week, since our dataset is for a one-week time period. The support for those items can be calculated as 35/7500 = 0.0045. The minimum confidence for the rules is 20% or 0.2. Similarly, we specify the value for lift as 3 and finally min_length is 2 since we want at least two products in our rules. These values are mostly just arbitrarily chosen, so you can play with these values and see what difference it makes in the rules you get back out."
      ]
    },
    {
      "cell_type": "code",
      "execution_count": null,
      "metadata": {
        "id": "bkDTGvlniSIp"
      },
      "outputs": [],
      "source": [
        "association_rules = apriori(records, min_support=0.0050, min_confidence=0.1, min_lift=2, min_length=2)\n",
        "association_results = list(association_rules)"
      ]
    },
    {
      "cell_type": "markdown",
      "metadata": {
        "id": "L1MTqGwMinb4"
      },
      "source": [
        "In the second line here we convert the rules found by the apriori class into a list since it is easier to view the results in this form.\n",
        "\n",
        "## Viewing the Results\n",
        "\n",
        "Let's first find the total number of rules mined by the apriori class. Execute the following script:"
      ]
    },
    {
      "cell_type": "code",
      "execution_count": null,
      "metadata": {
        "colab": {
          "base_uri": "https://localhost:8080/"
        },
        "id": "laiaMEDNioOO",
        "outputId": "b8239ced-573c-4063-d02a-ed5ee7a2692e"
      },
      "outputs": [
        {
          "output_type": "stream",
          "name": "stdout",
          "text": [
            "12\n"
          ]
        }
      ],
      "source": [
        "print(len(association_results))"
      ]
    },
    {
      "cell_type": "markdown",
      "metadata": {
        "id": "b2e-JmmJi9G-"
      },
      "source": [
        "The script above should return 48. Each item corresponds to one rule.\n",
        "\n",
        "Let's print the first item in the association_rules list to see the first rule. Execute the following script:"
      ]
    },
    {
      "cell_type": "code",
      "execution_count": null,
      "metadata": {
        "colab": {
          "base_uri": "https://localhost:8080/"
        },
        "id": "hgUQhk3bjAb4",
        "outputId": "829d68c4-99ad-4327-9fe6-86ff969083a0"
      },
      "outputs": [
        {
          "output_type": "stream",
          "name": "stdout",
          "text": [
            "RelationRecord(items=frozenset({'0*100', 'nan'}), support=0.06965761511216056, ordered_statistics=[OrderedStatistic(items_base=frozenset({'0*100'}), items_add=frozenset({'nan'}), confidence=1.0, lift=4.785310734463277), OrderedStatistic(items_base=frozenset({'nan'}), items_add=frozenset({'0*100'}), confidence=0.3333333333333333, lift=4.785310734463277)])\n"
          ]
        }
      ],
      "source": [
        "print(association_results[0])"
      ]
    },
    {
      "cell_type": "markdown",
      "metadata": {
        "id": "IdGdmSExjI5k"
      },
      "source": [
        "The first item in the list is a list itself containing three items. The first item of the list shows the grocery items in the rule.\n",
        "\n",
        "For instance from the first item, we can see that light cream and chicken are commonly bought together. This makes sense since people who purchase light cream are careful about what they eat hence they are more likely to buy chicken i.e. white meat instead of red meat i.e. beef. Or this could mean that light cream is commonly used in recipes for chicken.\n",
        "\n",
        "The support value for the first rule is 0.0045. This number is calculated by dividing the number of transactions containing light cream divided by total number of transactions. The confidence level for the rule is 0.2905 which shows that out of all the transactions that contain light cream, 29.05% of the transactions also contain chicken. Finally, the lift of 4.84 tells us that chicken is 4.84 times more likely to be bought by the customers who buy light cream compared to the default likelihood of the sale of chicken.\n",
        "\n",
        "The following script displays the rule, the support, the confidence, and lift for each rule in a more clear way:"
      ]
    },
    {
      "cell_type": "code",
      "execution_count": null,
      "metadata": {
        "colab": {
          "base_uri": "https://localhost:8080/"
        },
        "id": "56UPdDoOjMfM",
        "outputId": "357f49d1-190e-4b7c-b30d-032857accaf3"
      },
      "outputs": [
        {
          "output_type": "stream",
          "name": "stdout",
          "text": [
            "Rule: 0*100 -> nan\n",
            "Support: 0.06965761511216056\n",
            "Confidence: 1.0\n",
            "Lift: 4.785310734463277\n",
            "=====================================\n",
            "Rule: 558587118176 -> 356363027640530.0\n",
            "Support: 0.0059031877213695395\n",
            "Confidence: 1.0\n",
            "Lift: 14.116666666666665\n",
            "=====================================\n",
            "Rule: 356363027640530.0 -> 8532261759\n",
            "Support: 0.0059031877213695395\n",
            "Confidence: 0.8333333333333333\n",
            "Lift: 11.763888888888888\n",
            "=====================================\n",
            "Rule: 8587243357 -> 359035039489450.0\n",
            "Support: 0.0059031877213695395\n",
            "Confidence: 0.38461538461538464\n",
            "Lift: 4.46259220231823\n",
            "=====================================\n",
            "Rule: 8587568983 -> nan\n",
            "Support: 0.0070838252656434475\n",
            "Confidence: 0.6666666666666666\n",
            "Lift: 3.190207156308851\n",
            "=====================================\n",
            "Rule: nan -> 8588448552\n",
            "Support: 0.03423848878394333\n",
            "Confidence: 0.8529411764705883\n",
            "Lift: 4.081588567630442\n",
            "=====================================\n",
            "Rule: 0*100 -> nan\n",
            "Support: 0.06965761511216056\n",
            "Confidence: 1.0\n",
            "Lift: 4.785310734463277\n",
            "=====================================\n",
            "Rule: 558587118176 -> 356363027640530.0\n",
            "Support: 0.0059031877213695395\n",
            "Confidence: 1.0\n",
            "Lift: 14.116666666666665\n",
            "=====================================\n",
            "Rule: 356363027640530.0 -> 8532261759\n",
            "Support: 0.0059031877213695395\n",
            "Confidence: 0.8333333333333333\n",
            "Lift: 11.763888888888888\n",
            "=====================================\n",
            "Rule: 8587243357 -> 359035039489450.0\n",
            "Support: 0.0059031877213695395\n",
            "Confidence: 0.38461538461538464\n",
            "Lift: 4.46259220231823\n",
            "=====================================\n",
            "Rule: 8587568983 -> nan\n",
            "Support: 0.0070838252656434475\n",
            "Confidence: 0.6666666666666666\n",
            "Lift: 3.190207156308851\n",
            "=====================================\n",
            "Rule: nan -> 8588448552\n",
            "Support: 0.03423848878394333\n",
            "Confidence: 0.8529411764705883\n",
            "Lift: 4.081588567630442\n",
            "=====================================\n"
          ]
        }
      ],
      "source": [
        "for item in association_results:\n",
        "\n",
        "    # first index of the inner list\n",
        "    # Contains base item and add item\n",
        "    pair = item[0] \n",
        "    items = [x for x in pair]\n",
        "    print(\"Rule: \" + items[0] + \" -> \" + items[1])\n",
        "\n",
        "    #second index of the inner list\n",
        "    print(\"Support: \" + str(item[1]))\n",
        "\n",
        "    #third index of the list located at 0th\n",
        "    #of the third index of the inner list\n",
        "\n",
        "    print(\"Confidence: \" + str(item[2][0][2]))\n",
        "    print(\"Lift: \" + str(item[2][0][3]))\n",
        "    print(\"=====================================\")"
      ]
    },
    {
      "cell_type": "code",
      "source": [
        "from google.colab import drive\n",
        "drive.mount('/content/drive')"
      ],
      "metadata": {
        "id": "zjKtQl4bUz3l"
      },
      "execution_count": null,
      "outputs": []
    },
    {
      "cell_type": "markdown",
      "metadata": {
        "id": "VYIJQqLajaac"
      },
      "source": [
        "We have already discussed the first rule. Let's now discuss the second rule. The second rule states that mushroom cream sauce and escalope are bought frequently. The support for mushroom cream sauce is 0.0057. The confidence for this rule is 0.3006 which means that out of all the transactions containing mushroom, 30.06% of the transactions are likely to contain escalope as well. Finally, lift of 3.79 shows that the escalope is 3.79 more likely to be bought by the customers that buy mushroom cream sauce, compared to its default sale."
      ]
    },
    {
      "cell_type": "markdown",
      "metadata": {
        "id": "4UGJm5zfKD5k"
      },
      "source": [
        "# Sources:\n",
        "\n",
        "https://stackabuse.com/association-rule-mining-via-apriori-algorithm-in-python/\n",
        "\n",
        "https://medium.com/@kbrook10/day-11-machine-learning-using-knn-k-nearest-neighbors-with-scikit-learn-350c3a1402e6\n",
        "\n",
        "This notebook contains an excerpt from the [Python Data Science Handbook](http://shop.oreilly.com/product/0636920034919.do) by Jake VanderPlas"
      ]
    }
  ],
  "metadata": {
    "anaconda-cloud": {},
    "colab": {
      "provenance": [],
      "include_colab_link": true
    },
    "kernelspec": {
      "display_name": "Python 3",
      "language": "python",
      "name": "python3"
    },
    "language_info": {
      "codemirror_mode": {
        "name": "ipython",
        "version": 3
      },
      "file_extension": ".py",
      "mimetype": "text/x-python",
      "name": "python",
      "nbconvert_exporter": "python",
      "pygments_lexer": "ipython3",
      "version": "3.5.1"
    }
  },
  "nbformat": 4,
  "nbformat_minor": 0
}